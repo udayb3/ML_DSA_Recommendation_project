{
 "cells": [
  {
   "cell_type": "code",
   "execution_count": 2,
   "metadata": {
    "_cell_guid": "b1076dfc-b9ad-4769-8c92-a6c4dae69d19",
    "_uuid": "8f2839f25d086af736a60e9eeb907d3b93b6e0e5",
    "execution": {
     "iopub.execute_input": "2021-06-21T12:32:55.394360Z",
     "iopub.status.busy": "2021-06-21T12:32:55.393741Z",
     "iopub.status.idle": "2021-06-21T12:32:55.415999Z",
     "shell.execute_reply": "2021-06-21T12:32:55.414664Z",
     "shell.execute_reply.started": "2021-06-21T12:32:55.394257Z"
    },
    "id": "VVjO86HwQ4RB",
    "trusted": true
   },
   "outputs": [],
   "source": [
    "import numpy as np # linear algebra\n",
    "import pandas as pd\n",
    "import json\n",
    "\n",
    "# Assuming the file is named 'data.json'\n",
    "file_name = './../../preprocessed_data.json'\n",
    "\n",
    "# Open and load the JSON file\n",
    "with open(file_name, 'r') as file:\n",
    "    data = json.load(file)\n"
   ]
  },
  {
   "cell_type": "code",
   "execution_count": 3,
   "metadata": {
    "colab": {
     "base_uri": "https://localhost:8080/"
    },
    "id": "3YtDZKI2S77M",
    "outputId": "2c5de9f7-64f0-431e-9097-fe5f02a58d56"
   },
   "outputs": [
    {
     "data": {
      "text/plain": [
       "Index(['id.0', 'id.1', 'id.2', 'id.3', 'id.4', 'id.5', 'id.6', 'id.7', 'id.8',\n",
       "       'id.9',\n",
       "       ...\n",
       "       'comments.2417', 'comments.2418', 'comments.2419', 'comments.2420',\n",
       "       'comments.2421', 'comments.2422', 'comments.2423', 'comments.2424',\n",
       "       'comments.2425', 'comments.2426'],\n",
       "      dtype='object', length=26697)"
      ]
     },
     "execution_count": 3,
     "metadata": {},
     "output_type": "execute_result"
    }
   ],
   "source": [
    "# Normalize the JSON data into a flat table\n",
    "df = pd.json_normalize(data)\n",
    "df.columns"
   ]
  },
  {
   "cell_type": "code",
   "execution_count": 4,
   "metadata": {
    "colab": {
     "base_uri": "https://localhost:8080/",
     "height": 202
    },
    "id": "3Qkr_qsgTiL2",
    "outputId": "e680c19a-1b5c-48fb-f87d-3d7b133bc067"
   },
   "outputs": [
    {
     "data": {
      "text/html": [
       "<div>\n",
       "<style scoped>\n",
       "    .dataframe tbody tr th:only-of-type {\n",
       "        vertical-align: middle;\n",
       "    }\n",
       "\n",
       "    .dataframe tbody tr th {\n",
       "        vertical-align: top;\n",
       "    }\n",
       "\n",
       "    .dataframe thead th {\n",
       "        text-align: right;\n",
       "    }\n",
       "</style>\n",
       "<table border=\"1\" class=\"dataframe\">\n",
       "  <thead>\n",
       "    <tr style=\"text-align: right;\">\n",
       "      <th></th>\n",
       "      <th>name</th>\n",
       "      <th>text</th>\n",
       "      <th>accecpted</th>\n",
       "      <th>submission</th>\n",
       "      <th>topics</th>\n",
       "      <th>difficulty</th>\n",
       "      <th>link</th>\n",
       "      <th>website</th>\n",
       "      <th>upvotes</th>\n",
       "      <th>comments</th>\n",
       "    </tr>\n",
       "  </thead>\n",
       "  <tbody>\n",
       "    <tr>\n",
       "      <th>649</th>\n",
       "      <td>Loud and Rich</td>\n",
       "      <td>group peopl label person differ amount money d...</td>\n",
       "      <td>52100</td>\n",
       "      <td>86400</td>\n",
       "      <td>Array,Depth-First Search,Graph,Topological Sort,</td>\n",
       "      <td>Medium</td>\n",
       "      <td>https://leetcode.com/problems/loud-and-rich</td>\n",
       "      <td>leetcode</td>\n",
       "      <td>1300</td>\n",
       "      <td>35</td>\n",
       "    </tr>\n",
       "  </tbody>\n",
       "</table>\n",
       "</div>"
      ],
      "text/plain": [
       "              name                                               text  \\\n",
       "649  Loud and Rich  group peopl label person differ amount money d...   \n",
       "\n",
       "     accecpted  submission                                            topics  \\\n",
       "649      52100       86400  Array,Depth-First Search,Graph,Topological Sort,   \n",
       "\n",
       "    difficulty                                         link   website  \\\n",
       "649     Medium  https://leetcode.com/problems/loud-and-rich  leetcode   \n",
       "\n",
       "     upvotes  comments  \n",
       "649     1300        35  "
      ]
     },
     "execution_count": 4,
     "metadata": {},
     "output_type": "execute_result"
    }
   ],
   "source": [
    "df = pd.DataFrame(data)\n",
    "df = df.set_index('id')\n",
    "df = df.reset_index(drop=True)\n",
    "df.sample(1)"
   ]
  },
  {
   "cell_type": "code",
   "execution_count": 5,
   "metadata": {
    "id": "sVk50sScYRsz"
   },
   "outputs": [
    {
     "data": {
      "text/html": [
       "<div>\n",
       "<style scoped>\n",
       "    .dataframe tbody tr th:only-of-type {\n",
       "        vertical-align: middle;\n",
       "    }\n",
       "\n",
       "    .dataframe tbody tr th {\n",
       "        vertical-align: top;\n",
       "    }\n",
       "\n",
       "    .dataframe thead th {\n",
       "        text-align: right;\n",
       "    }\n",
       "</style>\n",
       "<table border=\"1\" class=\"dataframe\">\n",
       "  <thead>\n",
       "    <tr style=\"text-align: right;\">\n",
       "      <th></th>\n",
       "      <th>name</th>\n",
       "      <th>text</th>\n",
       "      <th>topics</th>\n",
       "      <th>accecpted</th>\n",
       "      <th>submission</th>\n",
       "      <th>difficulty</th>\n",
       "      <th>upvotes</th>\n",
       "      <th>comments</th>\n",
       "      <th>link</th>\n",
       "    </tr>\n",
       "  </thead>\n",
       "  <tbody>\n",
       "    <tr>\n",
       "      <th>0</th>\n",
       "      <td>Minimum String Length After Removing Substrings</td>\n",
       "      <td>string consist uppercas english letter appli o...</td>\n",
       "      <td>String,Stack,Simulation,</td>\n",
       "      <td>204900</td>\n",
       "      <td>262700</td>\n",
       "      <td>Easy</td>\n",
       "      <td>926</td>\n",
       "      <td>99</td>\n",
       "      <td>https://leetcode.com/problems/minimum-string-l...</td>\n",
       "    </tr>\n",
       "    <tr>\n",
       "      <th>1</th>\n",
       "      <td>Two Sum</td>\n",
       "      <td>array integ num integ target return indic numb...</td>\n",
       "      <td>Array,Hash Table,</td>\n",
       "      <td>14800000</td>\n",
       "      <td>27400000</td>\n",
       "      <td>Easy</td>\n",
       "      <td>58400</td>\n",
       "      <td>1000</td>\n",
       "      <td>https://leetcode.com/problems/two-sum</td>\n",
       "    </tr>\n",
       "    <tr>\n",
       "      <th>2</th>\n",
       "      <td>Add Two Numbers</td>\n",
       "      <td>nonempti link list repres nonneg integ digit s...</td>\n",
       "      <td>Linked List,Math,Recursion,</td>\n",
       "      <td>5000000</td>\n",
       "      <td>11400000</td>\n",
       "      <td>Medium</td>\n",
       "      <td>31800</td>\n",
       "      <td>679</td>\n",
       "      <td>https://leetcode.com/problems/add-two-numbers</td>\n",
       "    </tr>\n",
       "    <tr>\n",
       "      <th>3</th>\n",
       "      <td>Median of Two Sorted Arrays</td>\n",
       "      <td>sort array nums1 nums2 size respect return med...</td>\n",
       "      <td>Array,Binary Search,Divide and Conquer,</td>\n",
       "      <td>2900000</td>\n",
       "      <td>7000000</td>\n",
       "      <td>Hard</td>\n",
       "      <td>28800</td>\n",
       "      <td>512</td>\n",
       "      <td>https://leetcode.com/problems/median-of-two-so...</td>\n",
       "    </tr>\n",
       "    <tr>\n",
       "      <th>4</th>\n",
       "      <td>Zigzag Conversion</td>\n",
       "      <td>string paypalishir written zigzag pattern numb...</td>\n",
       "      <td>String,</td>\n",
       "      <td>1500000</td>\n",
       "      <td>3000000</td>\n",
       "      <td>Medium</td>\n",
       "      <td>7900</td>\n",
       "      <td>318</td>\n",
       "      <td>https://leetcode.com/problems/zigzag-conversion</td>\n",
       "    </tr>\n",
       "  </tbody>\n",
       "</table>\n",
       "</div>"
      ],
      "text/plain": [
       "                                              name  \\\n",
       "0  Minimum String Length After Removing Substrings   \n",
       "1                                          Two Sum   \n",
       "2                                  Add Two Numbers   \n",
       "3                      Median of Two Sorted Arrays   \n",
       "4                                Zigzag Conversion   \n",
       "\n",
       "                                                text  \\\n",
       "0  string consist uppercas english letter appli o...   \n",
       "1  array integ num integ target return indic numb...   \n",
       "2  nonempti link list repres nonneg integ digit s...   \n",
       "3  sort array nums1 nums2 size respect return med...   \n",
       "4  string paypalishir written zigzag pattern numb...   \n",
       "\n",
       "                                    topics  accecpted  submission difficulty  \\\n",
       "0                 String,Stack,Simulation,     204900      262700       Easy   \n",
       "1                        Array,Hash Table,   14800000    27400000       Easy   \n",
       "2              Linked List,Math,Recursion,    5000000    11400000     Medium   \n",
       "3  Array,Binary Search,Divide and Conquer,    2900000     7000000       Hard   \n",
       "4                                  String,    1500000     3000000     Medium   \n",
       "\n",
       "   upvotes  comments                                               link  \n",
       "0      926        99  https://leetcode.com/problems/minimum-string-l...  \n",
       "1    58400      1000              https://leetcode.com/problems/two-sum  \n",
       "2    31800       679      https://leetcode.com/problems/add-two-numbers  \n",
       "3    28800       512  https://leetcode.com/problems/median-of-two-so...  \n",
       "4     7900       318    https://leetcode.com/problems/zigzag-conversion  "
      ]
     },
     "execution_count": 5,
     "metadata": {},
     "output_type": "execute_result"
    }
   ],
   "source": [
    "train_sample = df[['name', 'text', 'topics', 'accecpted', 'submission', 'difficulty', 'upvotes', 'comments', 'link']]\n",
    "train_sample.head()"
   ]
  },
  {
   "cell_type": "code",
   "execution_count": 6,
   "metadata": {
    "colab": {
     "base_uri": "https://localhost:8080/",
     "height": 728
    },
    "id": "Yyac6VBaaHsI",
    "outputId": "b1ca90d2-d7d2-4c5a-e764-6a6c3a26a896"
   },
   "outputs": [
    {
     "name": "stderr",
     "output_type": "stream",
     "text": [
      "/tmp/ipykernel_10667/3081289312.py:2: SettingWithCopyWarning: \n",
      "A value is trying to be set on a copy of a slice from a DataFrame.\n",
      "Try using .loc[row_indexer,col_indexer] = value instead\n",
      "\n",
      "See the caveats in the documentation: https://pandas.pydata.org/pandas-docs/stable/user_guide/indexing.html#returning-a-view-versus-a-copy\n",
      "  train_sample['accecpted'] = 'A' + df['accecpted'].astype(str)\n",
      "/tmp/ipykernel_10667/3081289312.py:3: SettingWithCopyWarning: \n",
      "A value is trying to be set on a copy of a slice from a DataFrame.\n",
      "Try using .loc[row_indexer,col_indexer] = value instead\n",
      "\n",
      "See the caveats in the documentation: https://pandas.pydata.org/pandas-docs/stable/user_guide/indexing.html#returning-a-view-versus-a-copy\n",
      "  train_sample['submission'] = 'S' + df['submission'].astype(str)\n",
      "/tmp/ipykernel_10667/3081289312.py:4: SettingWithCopyWarning: \n",
      "A value is trying to be set on a copy of a slice from a DataFrame.\n",
      "Try using .loc[row_indexer,col_indexer] = value instead\n",
      "\n",
      "See the caveats in the documentation: https://pandas.pydata.org/pandas-docs/stable/user_guide/indexing.html#returning-a-view-versus-a-copy\n",
      "  train_sample['upvotes'] = 'U' + df['upvotes'].astype(str)\n",
      "/tmp/ipykernel_10667/3081289312.py:5: SettingWithCopyWarning: \n",
      "A value is trying to be set on a copy of a slice from a DataFrame.\n",
      "Try using .loc[row_indexer,col_indexer] = value instead\n",
      "\n",
      "See the caveats in the documentation: https://pandas.pydata.org/pandas-docs/stable/user_guide/indexing.html#returning-a-view-versus-a-copy\n",
      "  train_sample['comments'] = 'C' + df['comments'].astype(str)\n"
     ]
    },
    {
     "data": {
      "text/html": [
       "<div>\n",
       "<style scoped>\n",
       "    .dataframe tbody tr th:only-of-type {\n",
       "        vertical-align: middle;\n",
       "    }\n",
       "\n",
       "    .dataframe tbody tr th {\n",
       "        vertical-align: top;\n",
       "    }\n",
       "\n",
       "    .dataframe thead th {\n",
       "        text-align: right;\n",
       "    }\n",
       "</style>\n",
       "<table border=\"1\" class=\"dataframe\">\n",
       "  <thead>\n",
       "    <tr style=\"text-align: right;\">\n",
       "      <th></th>\n",
       "      <th>name</th>\n",
       "      <th>text</th>\n",
       "      <th>topics</th>\n",
       "      <th>accecpted</th>\n",
       "      <th>submission</th>\n",
       "      <th>difficulty</th>\n",
       "      <th>upvotes</th>\n",
       "      <th>comments</th>\n",
       "      <th>link</th>\n",
       "    </tr>\n",
       "  </thead>\n",
       "  <tbody>\n",
       "    <tr>\n",
       "      <th>0</th>\n",
       "      <td>Minimum String Length After Removing Substrings</td>\n",
       "      <td>string consist uppercas english letter appli o...</td>\n",
       "      <td>String,Stack,Simulation,</td>\n",
       "      <td>A204900</td>\n",
       "      <td>S262700</td>\n",
       "      <td>Easy</td>\n",
       "      <td>U926</td>\n",
       "      <td>C99</td>\n",
       "      <td>https://leetcode.com/problems/minimum-string-l...</td>\n",
       "    </tr>\n",
       "    <tr>\n",
       "      <th>1</th>\n",
       "      <td>Two Sum</td>\n",
       "      <td>array integ num integ target return indic numb...</td>\n",
       "      <td>Array,Hash Table,</td>\n",
       "      <td>A14800000</td>\n",
       "      <td>S27400000</td>\n",
       "      <td>Easy</td>\n",
       "      <td>U58400</td>\n",
       "      <td>C1000</td>\n",
       "      <td>https://leetcode.com/problems/two-sum</td>\n",
       "    </tr>\n",
       "    <tr>\n",
       "      <th>2</th>\n",
       "      <td>Add Two Numbers</td>\n",
       "      <td>nonempti link list repres nonneg integ digit s...</td>\n",
       "      <td>Linked List,Math,Recursion,</td>\n",
       "      <td>A5000000</td>\n",
       "      <td>S11400000</td>\n",
       "      <td>Medium</td>\n",
       "      <td>U31800</td>\n",
       "      <td>C679</td>\n",
       "      <td>https://leetcode.com/problems/add-two-numbers</td>\n",
       "    </tr>\n",
       "    <tr>\n",
       "      <th>3</th>\n",
       "      <td>Median of Two Sorted Arrays</td>\n",
       "      <td>sort array nums1 nums2 size respect return med...</td>\n",
       "      <td>Array,Binary Search,Divide and Conquer,</td>\n",
       "      <td>A2900000</td>\n",
       "      <td>S7000000</td>\n",
       "      <td>Hard</td>\n",
       "      <td>U28800</td>\n",
       "      <td>C512</td>\n",
       "      <td>https://leetcode.com/problems/median-of-two-so...</td>\n",
       "    </tr>\n",
       "    <tr>\n",
       "      <th>4</th>\n",
       "      <td>Zigzag Conversion</td>\n",
       "      <td>string paypalishir written zigzag pattern numb...</td>\n",
       "      <td>String,</td>\n",
       "      <td>A1500000</td>\n",
       "      <td>S3000000</td>\n",
       "      <td>Medium</td>\n",
       "      <td>U7900</td>\n",
       "      <td>C318</td>\n",
       "      <td>https://leetcode.com/problems/zigzag-conversion</td>\n",
       "    </tr>\n",
       "  </tbody>\n",
       "</table>\n",
       "</div>"
      ],
      "text/plain": [
       "                                              name  \\\n",
       "0  Minimum String Length After Removing Substrings   \n",
       "1                                          Two Sum   \n",
       "2                                  Add Two Numbers   \n",
       "3                      Median of Two Sorted Arrays   \n",
       "4                                Zigzag Conversion   \n",
       "\n",
       "                                                text  \\\n",
       "0  string consist uppercas english letter appli o...   \n",
       "1  array integ num integ target return indic numb...   \n",
       "2  nonempti link list repres nonneg integ digit s...   \n",
       "3  sort array nums1 nums2 size respect return med...   \n",
       "4  string paypalishir written zigzag pattern numb...   \n",
       "\n",
       "                                    topics  accecpted submission difficulty  \\\n",
       "0                 String,Stack,Simulation,    A204900    S262700       Easy   \n",
       "1                        Array,Hash Table,  A14800000  S27400000       Easy   \n",
       "2              Linked List,Math,Recursion,   A5000000  S11400000     Medium   \n",
       "3  Array,Binary Search,Divide and Conquer,   A2900000   S7000000       Hard   \n",
       "4                                  String,   A1500000   S3000000     Medium   \n",
       "\n",
       "  upvotes comments                                               link  \n",
       "0    U926      C99  https://leetcode.com/problems/minimum-string-l...  \n",
       "1  U58400    C1000              https://leetcode.com/problems/two-sum  \n",
       "2  U31800     C679      https://leetcode.com/problems/add-two-numbers  \n",
       "3  U28800     C512  https://leetcode.com/problems/median-of-two-so...  \n",
       "4   U7900     C318    https://leetcode.com/problems/zigzag-conversion  "
      ]
     },
     "execution_count": 6,
     "metadata": {},
     "output_type": "execute_result"
    }
   ],
   "source": [
    "# Assuming your DataFrame has an 'accepted' column with numerical values\n",
    "train_sample['accecpted'] = 'A' + df['accecpted'].astype(str)\n",
    "train_sample['submission'] = 'S' + df['submission'].astype(str)\n",
    "train_sample['upvotes'] = 'U' + df['upvotes'].astype(str)\n",
    "train_sample['comments'] = 'C' + df['comments'].astype(str)\n",
    "\n",
    "# Display the updated DataFrame\n",
    "train_sample.head()"
   ]
  },
  {
   "cell_type": "code",
   "execution_count": 7,
   "metadata": {
    "colab": {
     "base_uri": "https://localhost:8080/"
    },
    "id": "Nage6iDoeP9U",
    "outputId": "8f73b313-8532-474e-e6d7-84bece663c95"
   },
   "outputs": [
    {
     "name": "stdout",
     "output_type": "stream",
     "text": [
      "<class 'pandas.core.frame.DataFrame'>\n",
      "RangeIndex: 2427 entries, 0 to 2426\n",
      "Data columns (total 9 columns):\n",
      " #   Column      Non-Null Count  Dtype \n",
      "---  ------      --------------  ----- \n",
      " 0   name        2427 non-null   object\n",
      " 1   text        2427 non-null   object\n",
      " 2   topics      2427 non-null   object\n",
      " 3   accecpted   2427 non-null   object\n",
      " 4   submission  2427 non-null   object\n",
      " 5   difficulty  2427 non-null   object\n",
      " 6   upvotes     2427 non-null   object\n",
      " 7   comments    2427 non-null   object\n",
      " 8   link        2427 non-null   object\n",
      "dtypes: object(9)\n",
      "memory usage: 170.8+ KB\n"
     ]
    }
   ],
   "source": [
    "train_sample.info()"
   ]
  },
  {
   "cell_type": "code",
   "execution_count": 8,
   "metadata": {
    "colab": {
     "base_uri": "https://localhost:8080/"
    },
    "execution": {
     "iopub.execute_input": "2021-06-21T12:37:34.466349Z",
     "iopub.status.busy": "2021-06-21T12:37:34.465925Z",
     "iopub.status.idle": "2021-06-21T12:37:34.572742Z",
     "shell.execute_reply": "2021-06-21T12:37:34.571676Z",
     "shell.execute_reply.started": "2021-06-21T12:37:34.466313Z"
    },
    "id": "CDiIH_XoQ4RN",
    "outputId": "a0cd8c6d-4cf8-404b-9b34-5edf90d7fd46",
    "trusted": true
   },
   "outputs": [
    {
     "data": {
      "text/plain": [
       "0       Minimum String Length After Removing Substring...\n",
       "1       Two SumArray,Hash Table,array integ num integ ...\n",
       "2       Add Two NumbersLinked List,Math,Recursion,none...\n",
       "3       Median of Two Sorted ArraysArray,Binary Search...\n",
       "4       Zigzag ConversionString,string paypalishir wri...\n",
       "                              ...                        \n",
       "2422    Check if Two Chessboard Squares Have the Same ...\n",
       "2423    K-th Nearest Obstacle QueriesArray,Heap (Prior...\n",
       "2424    Select Cells in Grid With Maximum ScoreArray,D...\n",
       "2425    Maximum XOR Score Subarray QueriesArray,Dynami...\n",
       "2426    Convert Date to BinaryMath,String,string date ...\n",
       "Name: tags, Length: 2427, dtype: object"
      ]
     },
     "execution_count": 8,
     "metadata": {},
     "output_type": "execute_result"
    }
   ],
   "source": [
    "train_sample['tags'] = train_sample['name'] + train_sample['topics'] + train_sample['text'] + train_sample['accecpted'] + train_sample['submission'] + train_sample['difficulty'] + train_sample['upvotes'] + train_sample['comments']\n",
    "train_sample['tags']"
   ]
  },
  {
   "cell_type": "code",
   "execution_count": 11,
   "metadata": {
    "colab": {
     "base_uri": "https://localhost:8080/",
     "height": 206
    },
    "execution": {
     "iopub.execute_input": "2021-06-21T12:37:40.975174Z",
     "iopub.status.busy": "2021-06-21T12:37:40.974644Z",
     "iopub.status.idle": "2021-06-21T12:37:40.981843Z",
     "shell.execute_reply": "2021-06-21T12:37:40.981059Z",
     "shell.execute_reply.started": "2021-06-21T12:37:40.975140Z"
    },
    "id": "SCoHv2_9Q4RN",
    "outputId": "98fab6f3-b774-409c-cad4-82927ac570c8",
    "trusted": true
   },
   "outputs": [
    {
     "data": {
      "text/html": [
       "<div>\n",
       "<style scoped>\n",
       "    .dataframe tbody tr th:only-of-type {\n",
       "        vertical-align: middle;\n",
       "    }\n",
       "\n",
       "    .dataframe tbody tr th {\n",
       "        vertical-align: top;\n",
       "    }\n",
       "\n",
       "    .dataframe thead th {\n",
       "        text-align: right;\n",
       "    }\n",
       "</style>\n",
       "<table border=\"1\" class=\"dataframe\">\n",
       "  <thead>\n",
       "    <tr style=\"text-align: right;\">\n",
       "      <th></th>\n",
       "      <th>name</th>\n",
       "      <th>link</th>\n",
       "      <th>tags</th>\n",
       "    </tr>\n",
       "  </thead>\n",
       "  <tbody>\n",
       "    <tr>\n",
       "      <th>1878</th>\n",
       "      <td>Take K of Each Character From Left and Right</td>\n",
       "      <td>https://leetcode.com/problems/take-k-of-each-c...</td>\n",
       "      <td>Take K of Each Character From Left and RightHa...</td>\n",
       "    </tr>\n",
       "    <tr>\n",
       "      <th>959</th>\n",
       "      <td>Students and Examinations</td>\n",
       "      <td>https://leetcode.com/problems/students-and-exa...</td>\n",
       "      <td>Students and ExaminationsDatabase,sql schema p...</td>\n",
       "    </tr>\n",
       "    <tr>\n",
       "      <th>306</th>\n",
       "      <td>Binary Watch</td>\n",
       "      <td>https://leetcode.com/problems/binary-watch</td>\n",
       "      <td>Binary WatchBacktracking,Bit Manipulation,bina...</td>\n",
       "    </tr>\n",
       "    <tr>\n",
       "      <th>1138</th>\n",
       "      <td>Number of Good Pairs</td>\n",
       "      <td>https://leetcode.com/problems/number-of-good-p...</td>\n",
       "      <td>Number of Good PairsArray,Hash Table,Math,Coun...</td>\n",
       "    </tr>\n",
       "  </tbody>\n",
       "</table>\n",
       "</div>"
      ],
      "text/plain": [
       "                                              name  \\\n",
       "1878  Take K of Each Character From Left and Right   \n",
       "959                      Students and Examinations   \n",
       "306                                   Binary Watch   \n",
       "1138                          Number of Good Pairs   \n",
       "\n",
       "                                                   link  \\\n",
       "1878  https://leetcode.com/problems/take-k-of-each-c...   \n",
       "959   https://leetcode.com/problems/students-and-exa...   \n",
       "306          https://leetcode.com/problems/binary-watch   \n",
       "1138  https://leetcode.com/problems/number-of-good-p...   \n",
       "\n",
       "                                                   tags  \n",
       "1878  Take K of Each Character From Left and RightHa...  \n",
       "959   Students and ExaminationsDatabase,sql schema p...  \n",
       "306   Binary WatchBacktracking,Bit Manipulation,bina...  \n",
       "1138  Number of Good PairsArray,Hash Table,Math,Coun...  "
      ]
     },
     "execution_count": 11,
     "metadata": {},
     "output_type": "execute_result"
    }
   ],
   "source": [
    "final_sample = train_sample.drop(columns=['text','topics','accecpted','submission','upvotes','difficulty','comments'])\n",
    "final_sample.sample(4)"
   ]
  },
  {
   "cell_type": "code",
   "execution_count": 12,
   "metadata": {
    "execution": {
     "iopub.execute_input": "2021-06-21T12:38:06.545110Z",
     "iopub.status.busy": "2021-06-21T12:38:06.544599Z",
     "iopub.status.idle": "2021-06-21T12:38:07.488307Z",
     "shell.execute_reply": "2021-06-21T12:38:07.487238Z",
     "shell.execute_reply.started": "2021-06-21T12:38:06.545079Z"
    },
    "id": "8e6d4zsxQ4RO",
    "trusted": true
   },
   "outputs": [],
   "source": [
    "from sklearn.feature_extraction.text import CountVectorizer\n",
    "cv = CountVectorizer(max_features=5000,stop_words='english')"
   ]
  },
  {
   "cell_type": "code",
   "execution_count": 16,
   "metadata": {
    "execution": {
     "iopub.execute_input": "2021-06-21T12:38:10.164314Z",
     "iopub.status.busy": "2021-06-21T12:38:10.163889Z",
     "iopub.status.idle": "2021-06-21T12:38:10.821200Z",
     "shell.execute_reply": "2021-06-21T12:38:10.820175Z",
     "shell.execute_reply.started": "2021-06-21T12:38:10.164279Z"
    },
    "id": "l5_ZU7xLQ4RO",
    "trusted": true
   },
   "outputs": [
    {
     "data": {
      "text/plain": [
       "(2427, 5000)"
      ]
     },
     "execution_count": 16,
     "metadata": {},
     "output_type": "execute_result"
    }
   ],
   "source": [
    "tr_vector = cv.fit_transform(final_sample['tags']).toarray()\n",
    "tr_vector.shape"
   ]
  },
  {
   "cell_type": "code",
   "execution_count": 17,
   "metadata": {
    "execution": {
     "iopub.execute_input": "2021-06-21T12:38:13.339451Z",
     "iopub.status.busy": "2021-06-21T12:38:13.339041Z",
     "iopub.status.idle": "2021-06-21T12:38:13.390575Z",
     "shell.execute_reply": "2021-06-21T12:38:13.389373Z",
     "shell.execute_reply.started": "2021-06-21T12:38:13.339412Z"
    },
    "id": "0yg-_31uQ4RP",
    "trusted": true
   },
   "outputs": [
    {
     "data": {
      "text/plain": [
       "array([[1.        , 0.14750363, 0.11777342, ..., 0.09986987, 0.09358109,\n",
       "        0.16507337],\n",
       "       [0.14750363, 1.        , 0.33389486, ..., 0.18055125, 0.24108431,\n",
       "        0.19273628],\n",
       "       [0.11777342, 0.33389486, 1.        , ..., 0.14603231, 0.09578568,\n",
       "        0.19946925],\n",
       "       ...,\n",
       "       [0.09986987, 0.18055125, 0.14603231, ..., 1.        , 0.19854911,\n",
       "        0.10423597],\n",
       "       [0.09358109, 0.24108431, 0.09578568, ..., 0.19854911, 1.        ,\n",
       "        0.07520763],\n",
       "       [0.16507337, 0.19273628, 0.19946925, ..., 0.10423597, 0.07520763,\n",
       "        1.        ]])"
      ]
     },
     "execution_count": 17,
     "metadata": {},
     "output_type": "execute_result"
    }
   ],
   "source": [
    "from sklearn.metrics.pairwise import cosine_similarity\n",
    "similarity = cosine_similarity(tr_vector)\n",
    "similarity"
   ]
  },
  {
   "cell_type": "code",
   "execution_count": 18,
   "metadata": {
    "colab": {
     "base_uri": "https://localhost:8080/"
    },
    "execution": {
     "iopub.execute_input": "2021-06-19T14:08:46.716222Z",
     "iopub.status.busy": "2021-06-19T14:08:46.7159Z",
     "iopub.status.idle": "2021-06-19T14:08:46.7239Z",
     "shell.execute_reply": "2021-06-19T14:08:46.722946Z",
     "shell.execute_reply.started": "2021-06-19T14:08:46.716196Z"
    },
    "id": "k45Y282-Q4RQ",
    "outputId": "7060688f-d4c1-448f-a3f7-dc2430874450",
    "trusted": true
   },
   "outputs": [
    {
     "data": {
      "text/plain": [
       "np.int64(1)"
      ]
     },
     "execution_count": 18,
     "metadata": {},
     "output_type": "execute_result"
    }
   ],
   "source": [
    "final_sample[final_sample['name'] == 'Two Sum'].index[0]"
   ]
  },
  {
   "cell_type": "code",
   "execution_count": 28,
   "metadata": {
    "execution": {
     "iopub.execute_input": "2021-06-21T12:38:22.542900Z",
     "iopub.status.busy": "2021-06-21T12:38:22.542487Z",
     "iopub.status.idle": "2021-06-21T12:38:22.549786Z",
     "shell.execute_reply": "2021-06-21T12:38:22.548271Z",
     "shell.execute_reply.started": "2021-06-21T12:38:22.542867Z"
    },
    "id": "4mXZa54nQ4RQ",
    "trusted": true
   },
   "outputs": [
    {
     "name": "stdout",
     "output_type": "stream",
     "text": [
      "Merge Sorted Array\n",
      "Intersection of Two Arrays\n",
      "Intersection of Two Arrays II\n",
      "Two Out of Three\n",
      "Advantage Shuffle\n"
     ]
    }
   ],
   "source": [
    "def recommend(que, simil, list_data):\n",
    "  index = list_data[list_data['name'] == que].index[0]\n",
    "  distances = sorted(list(enumerate(simil[index])),reverse=True,key = lambda x: x[1])\n",
    "  for i in distances[1:6]:\n",
    "    print(list_data.iloc[i[0]]['name'])\n",
    "\n",
    "recommend('Median of Two Sorted Arrays', similarity, final_sample)"
   ]
  },
  {
   "cell_type": "code",
   "execution_count": 34,
   "metadata": {},
   "outputs": [],
   "source": [
    "import pickle\n",
    "import marshal\n",
    "\n",
    "fnc= marshal.dumps(recommend.__code__)\n",
    "with open(\"traditional_usage_method.mar\", \"wb\") as file:\n",
    "  file.write(fnc)\n",
    "\n",
    "pickle.dump(final_sample,open('traditional_ques_list.pkl','wb'))\n",
    "pickle.dump(similarity,open('traditional_similarity.pkl','wb'))"
   ]
  },
  {
   "cell_type": "markdown",
   "metadata": {},
   "source": [
    "## Using the methods and similarity models saved earlier"
   ]
  },
  {
   "cell_type": "code",
   "execution_count": 38,
   "metadata": {
    "execution": {
     "iopub.execute_input": "2021-06-21T12:39:59.606924Z",
     "iopub.status.busy": "2021-06-21T12:39:59.606475Z",
     "iopub.status.idle": "2021-06-21T12:39:59.612177Z",
     "shell.execute_reply": "2021-06-21T12:39:59.610858Z",
     "shell.execute_reply.started": "2021-06-21T12:39:59.606890Z"
    },
    "id": "UMeJoRQ2Q4RR",
    "trusted": true
   },
   "outputs": [],
   "source": [
    "import types\n",
    "\n",
    "tr_recommend_code= marshal.load(open('traditional_usage_method.mar', 'rb'))\n",
    "new_sim= pickle.load(open('traditional_similarity.pkl','rb'))\n",
    "new_data= pickle.load(open('traditional_ques_list.pkl','rb'))\n",
    "\n",
    "traditional_recommend = types.FunctionType(tr_recommend_code, globals(), \"some_func_name\")"
   ]
  },
  {
   "cell_type": "code",
   "execution_count": 40,
   "metadata": {},
   "outputs": [
    {
     "name": "stdout",
     "output_type": "stream",
     "text": [
      "Bitwise XOR of All Pairings\n",
      "Intersection of Two Arrays\n",
      "Find the Difference of Two Arrays\n",
      "4Sum II\n",
      "Get Maximum in Generated Array\n"
     ]
    }
   ],
   "source": [
    "traditional_recommend(\"Two Out of Three\", new_sim, new_data)"
   ]
  }
 ],
 "metadata": {
  "colab": {
   "provenance": []
  },
  "kernelspec": {
   "display_name": "pyvenv",
   "language": "python",
   "name": "python3"
  },
  "language_info": {
   "codemirror_mode": {
    "name": "ipython",
    "version": 3
   },
   "file_extension": ".py",
   "mimetype": "text/x-python",
   "name": "python",
   "nbconvert_exporter": "python",
   "pygments_lexer": "ipython3",
   "version": "3.12.7"
  }
 },
 "nbformat": 4,
 "nbformat_minor": 0
}
