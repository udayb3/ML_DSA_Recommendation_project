{
 "cells": [
  {
   "cell_type": "code",
   "execution_count": null,
   "metadata": {},
   "outputs": [],
   "source": [
    "import pandas as pd\n",
    "\n",
    "df= pd.read_json('../data_collect/website1/gen_data.json')\n",
    "df.info()"
   ]
  },
  {
   "cell_type": "code",
   "execution_count": null,
   "metadata": {},
   "outputs": [],
   "source": [
    "print(df.columns)\n",
    "df= df[['id', 'name', 'text', 'topics', '']]"
   ]
  },
  {
   "cell_type": "markdown",
   "metadata": {},
   "source": [
    "## Basic Preprocessing "
   ]
  },
  {
   "cell_type": "code",
   "execution_count": null,
   "metadata": {},
   "outputs": [],
   "source": [
    "import nltk\n",
    "nltk.download('stopwords')\n",
    "nltk.download('punkt')\n",
    "\n",
    "from copy import deepcopy\n",
    "from nltk.tokenize import word_tokenize\n",
    "from nltk.corpus import stopwords\n",
    "from nltk.stem import PorterStemmer, WordNetLemmatizer\n",
    "from spellchecker import SpellChecker\n",
    "import re\n",
    "import string\n",
    "\n",
    "stop_words = set(stopwords.words('english'))\n",
    "math_pattern = r'\\b[\\d\\+\\-\\*/=\\(\\)\\s]+\\b'\n",
    "addit= ['given', 'follow', 'exampl', 'consist']\n",
    "for nw in addit:\n",
    "\tstop_words.add(nw)\n",
    "\n",
    "stemmer= PorterStemmer()\n",
    "\n",
    "# Text Preprocessing\n",
    "def Basic_preprocess(text):\n",
    "\ttext = text.lower()\n",
    "\ttext = text.translate(str.maketrans('', '', string.punctuation))\n",
    "  \n",
    "\t# tokenizing the text\n",
    "\ttokens = word_tokenize(text)\n",
    "\t\n",
    "\t# initializing the spell checker\n",
    "\tspell = SpellChecker()\n",
    "\tinco_spell= spell.unknown(tokens);\tfinal_tokens=[]\n",
    "\n",
    "\t# using spell checker to correct the spelling of the word\n",
    "\tfor word in tokens:\n",
    "\n",
    "\t\tif(word in inco_spell):\n",
    "\t\t\tnew_word= spell.correction(word)\n",
    "\t\telse:\n",
    "\t\t\tnew_word= word\n",
    "\n",
    "\t\tif(new_word not in stop_words ):\n",
    "\t\t\ttemp= re.sub(r'\\d+', '', new_word)\n",
    "\t\t\ttemp = re.sub(math_pattern, '', temp)\n",
    "\n",
    "\t\t\tif(temp!=''):\n",
    "\t\t\t\tnew_word= stemmer.stem(word)\n",
    "\t\t\t\tfinal_tokens.append(new_word)\n",
    "\n",
    "\treturn final_tokens\n",
    "\n",
    "questions= deepcopy(df)\n",
    "for i, row in enumerate(questions['text']):\n",
    "  questions.loc[i, 'text']= Basic_preprocess(row)"
   ]
  }
 ],
 "metadata": {
  "kernelspec": {
   "display_name": "Python 3",
   "language": "python",
   "name": "python3"
  },
  "language_info": {
   "name": "python",
   "version": "3.12.6"
  }
 },
 "nbformat": 4,
 "nbformat_minor": 2
}
