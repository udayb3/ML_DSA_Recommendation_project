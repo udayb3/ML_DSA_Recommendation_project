{
 "cells": [
  {
   "cell_type": "markdown",
   "metadata": {},
   "source": [
    "# Generation of Fake Data"
   ]
  },
  {
   "cell_type": "code",
   "execution_count": 17,
   "metadata": {},
   "outputs": [
    {
     "data": {
      "text/html": [
       "<div>\n",
       "<style scoped>\n",
       "    .dataframe tbody tr th:only-of-type {\n",
       "        vertical-align: middle;\n",
       "    }\n",
       "\n",
       "    .dataframe tbody tr th {\n",
       "        vertical-align: top;\n",
       "    }\n",
       "\n",
       "    .dataframe thead th {\n",
       "        text-align: right;\n",
       "    }\n",
       "</style>\n",
       "<table border=\"1\" class=\"dataframe\">\n",
       "  <thead>\n",
       "    <tr style=\"text-align: right;\">\n",
       "      <th></th>\n",
       "      <th>uid</th>\n",
       "      <th>qsol</th>\n",
       "    </tr>\n",
       "  </thead>\n",
       "  <tbody>\n",
       "    <tr>\n",
       "      <th>0</th>\n",
       "      <td>0</td>\n",
       "      <td>{'qid': [0, 1, 2, 3, 4, 5, 6, 7, 8, 9, 10, 11,...</td>\n",
       "    </tr>\n",
       "    <tr>\n",
       "      <th>1</th>\n",
       "      <td>1</td>\n",
       "      <td>{'qid': [0, 1, 2, 3, 4, 5, 6, 7, 8, 9, 10, 11,...</td>\n",
       "    </tr>\n",
       "    <tr>\n",
       "      <th>2</th>\n",
       "      <td>2</td>\n",
       "      <td>{'qid': [0, 1, 2, 3, 4, 5, 6, 7, 8, 9, 10, 11,...</td>\n",
       "    </tr>\n",
       "    <tr>\n",
       "      <th>3</th>\n",
       "      <td>3</td>\n",
       "      <td>{'qid': [0, 1, 2, 3, 4, 5, 6, 7, 8, 9, 10, 11,...</td>\n",
       "    </tr>\n",
       "    <tr>\n",
       "      <th>4</th>\n",
       "      <td>4</td>\n",
       "      <td>{'qid': [0, 1, 2, 3, 4, 5, 6, 7, 8, 9, 10, 11,...</td>\n",
       "    </tr>\n",
       "    <tr>\n",
       "      <th>...</th>\n",
       "      <td>...</td>\n",
       "      <td>...</td>\n",
       "    </tr>\n",
       "    <tr>\n",
       "      <th>995</th>\n",
       "      <td>995</td>\n",
       "      <td>{'qid': [0, 1, 2, 3, 4, 5, 6, 7, 8, 9, 10, 11,...</td>\n",
       "    </tr>\n",
       "    <tr>\n",
       "      <th>996</th>\n",
       "      <td>996</td>\n",
       "      <td>{'qid': [0, 1, 2, 3, 4, 5, 6, 7, 8, 9, 10, 11,...</td>\n",
       "    </tr>\n",
       "    <tr>\n",
       "      <th>997</th>\n",
       "      <td>997</td>\n",
       "      <td>{'qid': [0, 1, 2, 3, 4, 5, 6, 7, 8, 9, 10, 11,...</td>\n",
       "    </tr>\n",
       "    <tr>\n",
       "      <th>998</th>\n",
       "      <td>998</td>\n",
       "      <td>{'qid': [0, 1, 2, 3, 4, 5, 6, 7, 8, 9, 10, 11,...</td>\n",
       "    </tr>\n",
       "    <tr>\n",
       "      <th>999</th>\n",
       "      <td>999</td>\n",
       "      <td>{'qid': [0, 1, 2, 3, 4, 5, 6, 7, 8, 9, 10, 11,...</td>\n",
       "    </tr>\n",
       "  </tbody>\n",
       "</table>\n",
       "<p>1000 rows × 2 columns</p>\n",
       "</div>"
      ],
      "text/plain": [
       "     uid                                               qsol\n",
       "0      0  {'qid': [0, 1, 2, 3, 4, 5, 6, 7, 8, 9, 10, 11,...\n",
       "1      1  {'qid': [0, 1, 2, 3, 4, 5, 6, 7, 8, 9, 10, 11,...\n",
       "2      2  {'qid': [0, 1, 2, 3, 4, 5, 6, 7, 8, 9, 10, 11,...\n",
       "3      3  {'qid': [0, 1, 2, 3, 4, 5, 6, 7, 8, 9, 10, 11,...\n",
       "4      4  {'qid': [0, 1, 2, 3, 4, 5, 6, 7, 8, 9, 10, 11,...\n",
       "..   ...                                                ...\n",
       "995  995  {'qid': [0, 1, 2, 3, 4, 5, 6, 7, 8, 9, 10, 11,...\n",
       "996  996  {'qid': [0, 1, 2, 3, 4, 5, 6, 7, 8, 9, 10, 11,...\n",
       "997  997  {'qid': [0, 1, 2, 3, 4, 5, 6, 7, 8, 9, 10, 11,...\n",
       "998  998  {'qid': [0, 1, 2, 3, 4, 5, 6, 7, 8, 9, 10, 11,...\n",
       "999  999  {'qid': [0, 1, 2, 3, 4, 5, 6, 7, 8, 9, 10, 11,...\n",
       "\n",
       "[1000 rows x 2 columns]"
      ]
     },
     "execution_count": 17,
     "metadata": {},
     "output_type": "execute_result"
    }
   ],
   "source": [
    "import pandas as pd\n",
    "from copy import deepcopy\n",
    "from random import randint\n",
    "\n",
    "data= {\n",
    "  'uid': [],\n",
    "  'qsol':[],  \n",
    "}\n",
    "\n",
    "qData= {\n",
    "    'qid':[],\n",
    "    'time':[],\n",
    "    'vote':[],\n",
    "    'isol':[]\n",
    "  }\n",
    "\n",
    "for uid in range(0,1000):\n",
    "    \n",
    "    data['uid'].append(uid)\n",
    "    temp= deepcopy(qData)\n",
    "    \n",
    "    for qid in range(0,6000):\n",
    "        temp['qid'].append(qid)\n",
    "        rn_time= randint(0,3600*24)\n",
    "        rn_vote= randint(0,1)\n",
    "        rn_isol= randint(0,1)\n",
    "        \n",
    "        temp['time'].append(rn_time)\n",
    "        temp['vote'].append(rn_vote)\n",
    "        temp['isol'].append(rn_isol)\n",
    "    data['qsol'].append(temp)\n",
    "\n",
    "df= pd.DataFrame(data)\n",
    "df"
   ]
  },
  {
   "cell_type": "code",
   "execution_count": 18,
   "metadata": {},
   "outputs": [],
   "source": [
    "import torch\n",
    "import torch.nn as nn\n",
    "import torch.optim as optim\n",
    "import torch.nn.functional as F\n",
    "from torch.utils.data import DataLoader, Dataset\n",
    "import numpy as np\n",
    "from sklearn.model_selection import train_test_split\n",
    "from sklearn.metrics import mean_squared_error\n",
    "import random\n",
    "import gc\n",
    "from tqdm import tqdm\n",
    "import matplotlib as plt\n",
    "\n",
    "# Setting a seed for reproducibility\n",
    "torch.manual_seed(42)\n",
    "np.random.seed(42)\n",
    "random.seed(42)\n",
    "\n",
    "device = torch.device(\"cuda\" if torch.cuda.is_available() else \"cpu\")"
   ]
  },
  {
   "cell_type": "code",
   "execution_count": 19,
   "metadata": {},
   "outputs": [
    {
     "data": {
      "text/plain": [
       "0"
      ]
     },
     "execution_count": 19,
     "metadata": {},
     "output_type": "execute_result"
    }
   ],
   "source": [
    "def prepare_data(synthetic_data:pd.DataFrame):\n",
    "    user_ids = []\n",
    "    question_ids = []\n",
    "    question_features = []\n",
    "    ratings = []\n",
    "\n",
    "    # Normalization factor for 'time'\n",
    "    max_time = 3600 * 24\n",
    "\n",
    "    for ind, record in synthetic_data.iterrows():\n",
    "        uid = record['uid']; n= len( record['qsol']['qid'] )\n",
    "        qsol= record['qsol']\n",
    "        for i in range(n):\n",
    "            user_ids.append(uid)\n",
    "            question_ids.append(qsol['qid'][i])\n",
    "            normalized_time = qsol['time'][i] / max_time\n",
    "            vote = qsol['vote'][i]\n",
    "            issol = qsol['isol'][i]\n",
    "            question_features.append([normalized_time, vote, issol])\n",
    "            ratings.append(vote)\n",
    "    \n",
    "    user_ids = np.array(user_ids)\n",
    "    question_ids = np.array(question_ids)\n",
    "    question_features = np.array(question_features, dtype=np.float32)\n",
    "    ratings = np.array(ratings, dtype=np.float32)\n",
    "    \n",
    "    return user_ids, question_ids, question_features, ratings\n",
    "\n",
    "user_ids, question_ids, question_features, ratings = prepare_data(df)\n",
    "del df\n",
    "gc.collect()"
   ]
  },
  {
   "cell_type": "code",
   "execution_count": 20,
   "metadata": {},
   "outputs": [],
   "source": [
    "# Splitting the data\n",
    "train_user_ids, test_user_ids, train_question_ids, test_question_ids, train_features, test_features, train_ratings, test_ratings = train_test_split(\n",
    "    user_ids, question_ids, question_features, ratings, test_size=0.2, random_state=42\n",
    ")\n",
    "\n",
    "# Split the training set further for validation\n",
    "train_user_ids, val_user_ids, train_question_ids, val_question_ids, train_features, val_features, train_ratings, val_ratings = train_test_split(\n",
    "    train_user_ids, train_question_ids, train_features, train_ratings, test_size=0.2, random_state=42\n",
    ")\n",
    "\n",
    "class UserQuestionDataset(Dataset):\n",
    "    def __init__(self, user_ids, question_ids, question_features, ratings):\n",
    "        self.user_ids = user_ids\n",
    "        self.question_ids = question_ids\n",
    "        self.question_features = question_features\n",
    "        self.ratings = ratings\n",
    "\n",
    "    def __len__(self):\n",
    "        return len(self.user_ids)\n",
    "\n",
    "    def __getitem__(self, idx):\n",
    "        return (self.user_ids[idx],\n",
    "                self.question_ids[idx],\n",
    "                self.question_features[idx],\n",
    "                self.ratings[idx])\n"
   ]
  },
  {
   "cell_type": "code",
   "execution_count": 21,
   "metadata": {},
   "outputs": [],
   "source": [
    "class UserToUserRecommendationModel(nn.Module):\n",
    "    def __init__(self, num_users, num_questions, feature_dim, embedding_dim):\n",
    "        super().__init__()\n",
    "        self.user_embedding = nn.Embedding(num_users, embedding_dim)\n",
    "        self.question_embedding = nn.Embedding(num_questions, embedding_dim)\n",
    "        \n",
    "        self.feature_layer = nn.Linear(feature_dim, embedding_dim)\n",
    "        \n",
    "        self.fc1 = nn.Linear(embedding_dim * 3, 128)\n",
    "        self.fc2 = nn.Linear(128, 64)\n",
    "        self.fc3 = nn.Linear(64, 1)\n",
    "        \n",
    "    def forward(self, user_ids, question_ids, question_features):\n",
    "        # Look up embeddings\n",
    "        user_emb = self.user_embedding(user_ids)\n",
    "        question_emb = self.question_embedding(question_ids)\n",
    "        question_feat_emb = self.feature_layer(question_features)\n",
    "        \n",
    "        x = torch.cat([user_emb, question_emb, question_feat_emb], dim=1)\n",
    "        x = F.relu(self.fc1(x))\n",
    "        x = F.relu(self.fc2(x))\n",
    "        score = torch.sigmoid(self.fc3(x)).squeeze()  # Sigmoid activation for binary output\n",
    "        \n",
    "        return score\n"
   ]
  },
  {
   "cell_type": "code",
   "execution_count": 24,
   "metadata": {},
   "outputs": [
    {
     "name": "stderr",
     "output_type": "stream",
     "text": [
      "Epoch 1/10: 100%|██████████| 60000/60000 [02:20<00:00, 425.58it/s, loss=1.81e-13]\n"
     ]
    },
    {
     "name": "stdout",
     "output_type": "stream",
     "text": [
      "Epoch [1/10], Train Loss: 0.0002, Validation Loss: 0.0000\n"
     ]
    },
    {
     "name": "stderr",
     "output_type": "stream",
     "text": [
      "Epoch 2/10: 100%|██████████| 60000/60000 [02:23<00:00, 417.04it/s, loss=8.69e-14]\n"
     ]
    },
    {
     "name": "stdout",
     "output_type": "stream",
     "text": [
      "Epoch [2/10], Train Loss: 0.0000, Validation Loss: 0.0000\n"
     ]
    },
    {
     "name": "stderr",
     "output_type": "stream",
     "text": [
      "Epoch 3/10: 100%|██████████| 60000/60000 [02:31<00:00, 396.58it/s, loss=1.07e-13]\n"
     ]
    },
    {
     "name": "stdout",
     "output_type": "stream",
     "text": [
      "Epoch [3/10], Train Loss: 0.0000, Validation Loss: 0.0000\n"
     ]
    },
    {
     "name": "stderr",
     "output_type": "stream",
     "text": [
      "Epoch 4/10: 100%|██████████| 60000/60000 [02:24<00:00, 414.26it/s, loss=9.31e-14]\n"
     ]
    },
    {
     "name": "stdout",
     "output_type": "stream",
     "text": [
      "Epoch [4/10], Train Loss: 0.0000, Validation Loss: 0.0000\n"
     ]
    },
    {
     "name": "stderr",
     "output_type": "stream",
     "text": [
      "Epoch 5/10: 100%|██████████| 60000/60000 [02:20<00:00, 426.32it/s, loss=3.45e-14]\n"
     ]
    },
    {
     "name": "stdout",
     "output_type": "stream",
     "text": [
      "Epoch [5/10], Train Loss: 0.0000, Validation Loss: 0.0000\n"
     ]
    },
    {
     "name": "stderr",
     "output_type": "stream",
     "text": [
      "Epoch 6/10: 100%|██████████| 60000/60000 [02:22<00:00, 422.27it/s, loss=2.36e-14]\n"
     ]
    },
    {
     "name": "stdout",
     "output_type": "stream",
     "text": [
      "Epoch [6/10], Train Loss: 0.0000, Validation Loss: 0.0000\n"
     ]
    },
    {
     "name": "stderr",
     "output_type": "stream",
     "text": [
      "Epoch 7/10: 100%|██████████| 60000/60000 [02:21<00:00, 422.66it/s, loss=2.58e-14]\n"
     ]
    },
    {
     "name": "stdout",
     "output_type": "stream",
     "text": [
      "Epoch [7/10], Train Loss: 0.0000, Validation Loss: 0.0000\n"
     ]
    },
    {
     "name": "stderr",
     "output_type": "stream",
     "text": [
      "Epoch 8/10: 100%|██████████| 60000/60000 [02:19<00:00, 428.97it/s, loss=3.57e-14]\n"
     ]
    },
    {
     "name": "stdout",
     "output_type": "stream",
     "text": [
      "Epoch [8/10], Train Loss: 0.0000, Validation Loss: 0.0000\n"
     ]
    },
    {
     "name": "stderr",
     "output_type": "stream",
     "text": [
      "Epoch 9/10: 100%|██████████| 60000/60000 [02:21<00:00, 425.45it/s, loss=2e-14]   \n"
     ]
    },
    {
     "name": "stdout",
     "output_type": "stream",
     "text": [
      "Epoch [9/10], Train Loss: 0.0000, Validation Loss: 0.0000\n"
     ]
    },
    {
     "name": "stderr",
     "output_type": "stream",
     "text": [
      "Epoch 10/10: 100%|██████████| 60000/60000 [02:21<00:00, 425.31it/s, loss=1.94e-14]\n"
     ]
    },
    {
     "name": "stdout",
     "output_type": "stream",
     "text": [
      "Epoch [10/10], Train Loss: 0.0000, Validation Loss: 0.0000\n"
     ]
    }
   ],
   "source": [
    "num_users = max(user_ids) + 1\n",
    "num_questions = max(question_ids) + 1\n",
    "feature_dim = 3  # [normalized_time, vote, issol]\n",
    "embedding_dim = 128  # Updated embedding dimension\n",
    "batch_size = 64\n",
    "num_epochs = 10\n",
    "learning_rate = 0.001\n",
    "\n",
    "# Dataloaders\n",
    "train_dataset = UserQuestionDataset(train_user_ids, train_question_ids, train_features, train_ratings)\n",
    "val_dataset = UserQuestionDataset(val_user_ids, val_question_ids, val_features, val_ratings)\n",
    "test_dataset = UserQuestionDataset(test_user_ids, test_question_ids, test_features, test_ratings)\n",
    "\n",
    "train_loader = DataLoader(train_dataset, batch_size=batch_size, shuffle=True)\n",
    "val_loader = DataLoader(val_dataset, batch_size=batch_size, shuffle=False)\n",
    "test_loader = DataLoader(test_dataset, batch_size=batch_size, shuffle=False)\n",
    "\n",
    "# Model, Loss Function, and Optimizer\n",
    "model = UserToUserRecommendationModel(num_users, num_questions, feature_dim, embedding_dim).to(device)\n",
    "criterion = nn.BCELoss()  # Binary Cross-Entropy Loss for binary prediction\n",
    "optimizer = optim.Adam(model.parameters(), lr=learning_rate)\n",
    "\n",
    "# Lists to track losses for plotting\n",
    "train_losses = []\n",
    "val_losses = []\n",
    "test_losses = []  # New list for tracking test set loss\n",
    "\n",
    "def train(model, train_loader, val_loader, test_loader, criterion, optimizer, num_epochs):\n",
    "    model.train()\n",
    "    for epoch in range(num_epochs):\n",
    "        total_loss = 0\n",
    "        # Training loop\n",
    "        progress_bar = tqdm(train_loader, desc=f\"Epoch {epoch + 1}/{num_epochs}\")\n",
    "        for user_ids, question_ids, question_features, ratings in progress_bar:\n",
    "            user_ids = user_ids.long().to(device)\n",
    "            question_ids = question_ids.long().to(device)\n",
    "            question_features = question_features.float().to(device)\n",
    "            ratings = ratings.float().to(device)\n",
    "\n",
    "            optimizer.zero_grad()\n",
    "            predictions = model(user_ids, question_ids, question_features)\n",
    "            loss = criterion(predictions, ratings)\n",
    "            loss.backward()\n",
    "            optimizer.step()\n",
    "            \n",
    "            total_loss += loss.item()\n",
    "            progress_bar.set_postfix(loss=loss.item())\n",
    "        \n",
    "        avg_train_loss = total_loss / len(train_loader)\n",
    "        \n",
    "        # Validation after each epoch\n",
    "        avg_val_loss = evaluate(model, val_loader, criterion)        \n",
    "        train_losses.append(avg_train_loss)\n",
    "        val_losses.append(avg_val_loss)\n",
    "\n",
    "        print(f\"Epoch [{epoch + 1}/{num_epochs}], Train Loss: {avg_train_loss:.4f}, Validation Loss: {avg_val_loss:.4f}\")\n",
    "\n",
    "# Evaluation Function (also used for validation and test)\n",
    "def evaluate(model, data_loader, criterion):\n",
    "    model.eval()\n",
    "    total_loss = 0\n",
    "    with torch.no_grad():\n",
    "        for user_ids, question_ids, question_features, ratings in data_loader:\n",
    "            user_ids = user_ids.long().to(device)\n",
    "            question_ids = question_ids.long().to(device)\n",
    "            question_features = question_features.float().to(device)\n",
    "            ratings = ratings.float().to(device)\n",
    "\n",
    "            outputs = model(user_ids, question_ids, question_features)\n",
    "            loss = criterion(outputs, ratings)\n",
    "            total_loss += loss.item()\n",
    "\n",
    "    avg_loss = total_loss / len(data_loader)\n",
    "    return avg_loss\n",
    "\n",
    "# Training the model\n",
    "train(model, train_loader, val_loader, test_loader, criterion, optimizer, num_epochs)"
   ]
  },
  {
   "cell_type": "code",
   "execution_count": 26,
   "metadata": {},
   "outputs": [
    {
     "data": {
      "image/png": "[encoded data removed]",
      "text/plain": [
       "<Figure size 640x480 with 1 Axes>"
      ]
     },
     "metadata": {},
     "output_type": "display_data"
    }
   ],
   "source": [
    "import matplotlib.pyplot as plt\n",
    " \n",
    "plt.plot( range(1, num_epochs + 1), train_losses, label='Training Loss')\n",
    "plt.plot( range(1, num_epochs + 1), val_losses, label='Validation Loss')\n",
    "plt.xlabel('Epochs')\n",
    "plt.ylabel('Loss')\n",
    "plt.title('Training, Validation, and Test Loss Over Epochs')\n",
    "plt.legend()\n",
    "plt.show()"
   ]
  },
  {
   "cell_type": "code",
   "execution_count": 27,
   "metadata": {},
   "outputs": [
    {
     "name": "stdout",
     "output_type": "stream",
     "text": [
      "Test Loss: 0.0000\n"
     ]
    }
   ],
   "source": [
    "test_loss = evaluate(model, test_loader, criterion)\n",
    "print(f\"Test Loss: {test_loss:.4f}\")"
   ]
  },
  {
   "cell_type": "code",
   "execution_count": 28,
   "metadata": {},
   "outputs": [
    {
     "name": "stdout",
     "output_type": "stream",
     "text": [
      "Model saved to 'user_to_user_recommendation_model.pth'\n"
     ]
    }
   ],
   "source": [
    "# Save the model after training\n",
    "torch.save(model.state_dict(), 'user_to_user_recommendation_model.pth')\n",
    "print(\"Model saved to 'user_to_user_recommendation_model.pth'\")"
   ]
  },
  {
   "cell_type": "code",
   "execution_count": 29,
   "metadata": {},
   "outputs": [
    {
     "name": "stdout",
     "output_type": "stream",
     "text": [
      "Model loaded from 'user_to_user_recommendation_model.pth'\n"
     ]
    },
    {
     "name": "stderr",
     "output_type": "stream",
     "text": [
      "/tmp/ipykernel_3462474/2693641886.py:3: FutureWarning: You are using `torch.load` with `weights_only=False` (the current default value), which uses the default pickle module implicitly. It is possible to construct malicious pickle data which will execute arbitrary code during unpickling (See https://github.com/pytorch/pytorch/blob/main/SECURITY.md#untrusted-models for more details). In a future release, the default value for `weights_only` will be flipped to `True`. This limits the functions that could be executed during unpickling. Arbitrary objects will no longer be allowed to be loaded via this mode unless they are explicitly allowlisted by the user via `torch.serialization.add_safe_globals`. We recommend you start setting `weights_only=True` for any use case where you don't have full control of the loaded file. Please open an issue on GitHub for any issues related to this experimental feature.\n",
      "  model.load_state_dict(torch.load('user_to_user_recommendation_model.pth'))\n"
     ]
    }
   ],
   "source": [
    "# Define the model architecture again\n",
    "model = UserToUserRecommendationModel(num_users, num_questions, feature_dim, embedding_dim).to(device)\n",
    "model.load_state_dict(torch.load('user_to_user_recommendation_model.pth'))\n",
    "model.eval()\n",
    "\n",
    "print(\"Model loaded from 'user_to_user_recommendation_model.pth'\")"
   ]
  }
 ],
 "metadata": {
  "kernelspec": {
   "display_name": "ml",
   "language": "python",
   "name": "python3"
  },
  "language_info": {
   "codemirror_mode": {
    "name": "ipython",
    "version": 3
   },
   "file_extension": ".py",
   "mimetype": "text/x-python",
   "name": "python",
   "nbconvert_exporter": "python",
   "pygments_lexer": "ipython3",
   "version": "3.10.15"
  }
 },
 "nbformat": 4,
 "nbformat_minor": 2
}
