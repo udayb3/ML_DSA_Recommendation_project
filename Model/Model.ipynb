{
  "nbformat": 4,
  "nbformat_minor": 0,
  "metadata": {
    "colab": {
      "provenance": []
    },
    "kernelspec": {
      "name": "python3",
      "display_name": "Python 3"
    },
    "language_info": {
      "name": "python"
    }
  },
  "cells": [
    {
      "cell_type": "code",
      "execution_count": null,
      "metadata": {
        "id": "ikkDOiNBY2FU"
      },
      "outputs": [],
      "source": []
    },
    {
      "cell_type": "code",
      "execution_count": null,
      "metadata": {
        "execution": {
          "iopub.execute_input": "2021-06-21T12:37:40.975174Z",
          "iopub.status.busy": "2021-06-21T12:37:40.974644Z",
          "iopub.status.idle": "2021-06-21T12:37:40.981843Z",
          "shell.execute_reply": "2021-06-21T12:37:40.981059Z",
          "shell.execute_reply.started": "2021-06-21T12:37:40.975140Z"
        },
        "trusted": true,
        "colab": {
          "base_uri": "https://localhost:8080/",
          "height": 206
        },
        "id": "SCoHv2_9Q4RN",
        "outputId": "98fab6f3-b774-409c-cad4-82927ac570c8"
      },
      "outputs": [
        {
          "output_type": "execute_result",
          "data": {
            "text/plain": [
              "                                              name  \\\n",
              "0  Minimum String Length After Removing Substrings   \n",
              "1                                          Two Sum   \n",
              "2                                  Add Two Numbers   \n",
              "3                      Median of Two Sorted Arrays   \n",
              "4                                Zigzag Conversion   \n",
              "\n",
              "                                                tags  \n",
              "0  Minimum String Length After Removing Substring...  \n",
              "1  Two SumArray,Hash Table,array integ num integ ...  \n",
              "2  Add Two NumbersLinked List,Math,Recursion,none...  \n",
              "3  Median of Two Sorted ArraysArray,Binary Search...  \n",
              "4  Zigzag ConversionString,string paypalishir wri...  "
            ],
            "text/html": [
              "\n",
              "  <div id=\"df-2a7dda3e-9d0c-402d-858a-75051bb09cbd\" class=\"colab-df-container\">\n",
              "    <div>\n",
              "<style scoped>\n",
              "    .dataframe tbody tr th:only-of-type {\n",
              "        vertical-align: middle;\n",
              "    }\n",
              "\n",
              "    .dataframe tbody tr th {\n",
              "        vertical-align: top;\n",
              "    }\n",
              "\n",
              "    .dataframe thead th {\n",
              "        text-align: right;\n",
              "    }\n",
              "</style>\n",
              "<table border=\"1\" class=\"dataframe\">\n",
              "  <thead>\n",
              "    <tr style=\"text-align: right;\">\n",
              "      <th></th>\n",
              "      <th>name</th>\n",
              "      <th>tags</th>\n",
              "    </tr>\n",
              "  </thead>\n",
              "  <tbody>\n",
              "    <tr>\n",
              "      <th>0</th>\n",
              "      <td>Minimum String Length After Removing Substrings</td>\n",
              "      <td>Minimum String Length After Removing Substring...</td>\n",
              "    </tr>\n",
              "    <tr>\n",
              "      <th>1</th>\n",
              "      <td>Two Sum</td>\n",
              "      <td>Two SumArray,Hash Table,array integ num integ ...</td>\n",
              "    </tr>\n",
              "    <tr>\n",
              "      <th>2</th>\n",
              "      <td>Add Two Numbers</td>\n",
              "      <td>Add Two NumbersLinked List,Math,Recursion,none...</td>\n",
              "    </tr>\n",
              "    <tr>\n",
              "      <th>3</th>\n",
              "      <td>Median of Two Sorted Arrays</td>\n",
              "      <td>Median of Two Sorted ArraysArray,Binary Search...</td>\n",
              "    </tr>\n",
              "    <tr>\n",
              "      <th>4</th>\n",
              "      <td>Zigzag Conversion</td>\n",
              "      <td>Zigzag ConversionString,string paypalishir wri...</td>\n",
              "    </tr>\n",
              "  </tbody>\n",
              "</table>\n",
              "</div>\n",
              "    <div class=\"colab-df-buttons\">\n",
              "\n",
              "  <div class=\"colab-df-container\">\n",
              "    <button class=\"colab-df-convert\" onclick=\"convertToInteractive('df-2a7dda3e-9d0c-402d-858a-75051bb09cbd')\"\n",
              "            title=\"Convert this dataframe to an interactive table.\"\n",
              "            style=\"display:none;\">\n",
              "\n",
              "  <svg xmlns=\"http://www.w3.org/2000/svg\" height=\"24px\" viewBox=\"0 -960 960 960\">\n",
              "    <path d=\"M120-120v-720h720v720H120Zm60-500h600v-160H180v160Zm220 220h160v-160H400v160Zm0 220h160v-160H400v160ZM180-400h160v-160H180v160Zm440 0h160v-160H620v160ZM180-180h160v-160H180v160Zm440 0h160v-160H620v160Z\"/>\n",
              "  </svg>\n",
              "    </button>\n",
              "\n",
              "  <style>\n",
              "    .colab-df-container {\n",
              "      display:flex;\n",
              "      gap: 12px;\n",
              "    }\n",
              "\n",
              "    .colab-df-convert {\n",
              "      background-color: #E8F0FE;\n",
              "      border: none;\n",
              "      border-radius: 50%;\n",
              "      cursor: pointer;\n",
              "      display: none;\n",
              "      fill: #1967D2;\n",
              "      height: 32px;\n",
              "      padding: 0 0 0 0;\n",
              "      width: 32px;\n",
              "    }\n",
              "\n",
              "    .colab-df-convert:hover {\n",
              "      background-color: #E2EBFA;\n",
              "      box-shadow: 0px 1px 2px rgba(60, 64, 67, 0.3), 0px 1px 3px 1px rgba(60, 64, 67, 0.15);\n",
              "      fill: #174EA6;\n",
              "    }\n",
              "\n",
              "    .colab-df-buttons div {\n",
              "      margin-bottom: 4px;\n",
              "    }\n",
              "\n",
              "    [theme=dark] .colab-df-convert {\n",
              "      background-color: #3B4455;\n",
              "      fill: #D2E3FC;\n",
              "    }\n",
              "\n",
              "    [theme=dark] .colab-df-convert:hover {\n",
              "      background-color: #434B5C;\n",
              "      box-shadow: 0px 1px 3px 1px rgba(0, 0, 0, 0.15);\n",
              "      filter: drop-shadow(0px 1px 2px rgba(0, 0, 0, 0.3));\n",
              "      fill: #FFFFFF;\n",
              "    }\n",
              "  </style>\n",
              "\n",
              "    <script>\n",
              "      const buttonEl =\n",
              "        document.querySelector('#df-2a7dda3e-9d0c-402d-858a-75051bb09cbd button.colab-df-convert');\n",
              "      buttonEl.style.display =\n",
              "        google.colab.kernel.accessAllowed ? 'block' : 'none';\n",
              "\n",
              "      async function convertToInteractive(key) {\n",
              "        const element = document.querySelector('#df-2a7dda3e-9d0c-402d-858a-75051bb09cbd');\n",
              "        const dataTable =\n",
              "          await google.colab.kernel.invokeFunction('convertToInteractive',\n",
              "                                                    [key], {});\n",
              "        if (!dataTable) return;\n",
              "\n",
              "        const docLinkHtml = 'Like what you see? Visit the ' +\n",
              "          '<a target=\"_blank\" href=https://colab.research.google.com/notebooks/data_table.ipynb>data table notebook</a>'\n",
              "          + ' to learn more about interactive tables.';\n",
              "        element.innerHTML = '';\n",
              "        dataTable['output_type'] = 'display_data';\n",
              "        await google.colab.output.renderOutput(dataTable, element);\n",
              "        const docLink = document.createElement('div');\n",
              "        docLink.innerHTML = docLinkHtml;\n",
              "        element.appendChild(docLink);\n",
              "      }\n",
              "    </script>\n",
              "  </div>\n",
              "\n",
              "\n",
              "<div id=\"df-b880f431-837b-4ce1-91d6-288a807cf392\">\n",
              "  <button class=\"colab-df-quickchart\" onclick=\"quickchart('df-b880f431-837b-4ce1-91d6-288a807cf392')\"\n",
              "            title=\"Suggest charts\"\n",
              "            style=\"display:none;\">\n",
              "\n",
              "<svg xmlns=\"http://www.w3.org/2000/svg\" height=\"24px\"viewBox=\"0 0 24 24\"\n",
              "     width=\"24px\">\n",
              "    <g>\n",
              "        <path d=\"M19 3H5c-1.1 0-2 .9-2 2v14c0 1.1.9 2 2 2h14c1.1 0 2-.9 2-2V5c0-1.1-.9-2-2-2zM9 17H7v-7h2v7zm4 0h-2V7h2v10zm4 0h-2v-4h2v4z\"/>\n",
              "    </g>\n",
              "</svg>\n",
              "  </button>\n",
              "\n",
              "<style>\n",
              "  .colab-df-quickchart {\n",
              "      --bg-color: #E8F0FE;\n",
              "      --fill-color: #1967D2;\n",
              "      --hover-bg-color: #E2EBFA;\n",
              "      --hover-fill-color: #174EA6;\n",
              "      --disabled-fill-color: #AAA;\n",
              "      --disabled-bg-color: #DDD;\n",
              "  }\n",
              "\n",
              "  [theme=dark] .colab-df-quickchart {\n",
              "      --bg-color: #3B4455;\n",
              "      --fill-color: #D2E3FC;\n",
              "      --hover-bg-color: #434B5C;\n",
              "      --hover-fill-color: #FFFFFF;\n",
              "      --disabled-bg-color: #3B4455;\n",
              "      --disabled-fill-color: #666;\n",
              "  }\n",
              "\n",
              "  .colab-df-quickchart {\n",
              "    background-color: var(--bg-color);\n",
              "    border: none;\n",
              "    border-radius: 50%;\n",
              "    cursor: pointer;\n",
              "    display: none;\n",
              "    fill: var(--fill-color);\n",
              "    height: 32px;\n",
              "    padding: 0;\n",
              "    width: 32px;\n",
              "  }\n",
              "\n",
              "  .colab-df-quickchart:hover {\n",
              "    background-color: var(--hover-bg-color);\n",
              "    box-shadow: 0 1px 2px rgba(60, 64, 67, 0.3), 0 1px 3px 1px rgba(60, 64, 67, 0.15);\n",
              "    fill: var(--button-hover-fill-color);\n",
              "  }\n",
              "\n",
              "  .colab-df-quickchart-complete:disabled,\n",
              "  .colab-df-quickchart-complete:disabled:hover {\n",
              "    background-color: var(--disabled-bg-color);\n",
              "    fill: var(--disabled-fill-color);\n",
              "    box-shadow: none;\n",
              "  }\n",
              "\n",
              "  .colab-df-spinner {\n",
              "    border: 2px solid var(--fill-color);\n",
              "    border-color: transparent;\n",
              "    border-bottom-color: var(--fill-color);\n",
              "    animation:\n",
              "      spin 1s steps(1) infinite;\n",
              "  }\n",
              "\n",
              "  @keyframes spin {\n",
              "    0% {\n",
              "      border-color: transparent;\n",
              "      border-bottom-color: var(--fill-color);\n",
              "      border-left-color: var(--fill-color);\n",
              "    }\n",
              "    20% {\n",
              "      border-color: transparent;\n",
              "      border-left-color: var(--fill-color);\n",
              "      border-top-color: var(--fill-color);\n",
              "    }\n",
              "    30% {\n",
              "      border-color: transparent;\n",
              "      border-left-color: var(--fill-color);\n",
              "      border-top-color: var(--fill-color);\n",
              "      border-right-color: var(--fill-color);\n",
              "    }\n",
              "    40% {\n",
              "      border-color: transparent;\n",
              "      border-right-color: var(--fill-color);\n",
              "      border-top-color: var(--fill-color);\n",
              "    }\n",
              "    60% {\n",
              "      border-color: transparent;\n",
              "      border-right-color: var(--fill-color);\n",
              "    }\n",
              "    80% {\n",
              "      border-color: transparent;\n",
              "      border-right-color: var(--fill-color);\n",
              "      border-bottom-color: var(--fill-color);\n",
              "    }\n",
              "    90% {\n",
              "      border-color: transparent;\n",
              "      border-bottom-color: var(--fill-color);\n",
              "    }\n",
              "  }\n",
              "</style>\n",
              "\n",
              "  <script>\n",
              "    async function quickchart(key) {\n",
              "      const quickchartButtonEl =\n",
              "        document.querySelector('#' + key + ' button');\n",
              "      quickchartButtonEl.disabled = true;  // To prevent multiple clicks.\n",
              "      quickchartButtonEl.classList.add('colab-df-spinner');\n",
              "      try {\n",
              "        const charts = await google.colab.kernel.invokeFunction(\n",
              "            'suggestCharts', [key], {});\n",
              "      } catch (error) {\n",
              "        console.error('Error during call to suggestCharts:', error);\n",
              "      }\n",
              "      quickchartButtonEl.classList.remove('colab-df-spinner');\n",
              "      quickchartButtonEl.classList.add('colab-df-quickchart-complete');\n",
              "    }\n",
              "    (() => {\n",
              "      let quickchartButtonEl =\n",
              "        document.querySelector('#df-b880f431-837b-4ce1-91d6-288a807cf392 button');\n",
              "      quickchartButtonEl.style.display =\n",
              "        google.colab.kernel.accessAllowed ? 'block' : 'none';\n",
              "    })();\n",
              "  </script>\n",
              "</div>\n",
              "\n",
              "    </div>\n",
              "  </div>\n"
            ],
            "application/vnd.google.colaboratory.intrinsic+json": {
              "type": "dataframe",
              "variable_name": "new",
              "summary": "{\n  \"name\": \"new\",\n  \"rows\": 2427,\n  \"fields\": [\n    {\n      \"column\": \"name\",\n      \"properties\": {\n        \"dtype\": \"string\",\n        \"num_unique_values\": 2426,\n        \"samples\": [\n          \"Minimum Number of Work Sessions to Finish the Tasks\",\n          \"Fibonacci Number\",\n          \"Min Cost to Connect All Points\"\n        ],\n        \"semantic_type\": \"\",\n        \"description\": \"\"\n      }\n    },\n    {\n      \"column\": \"tags\",\n      \"properties\": {\n        \"dtype\": \"string\",\n        \"num_unique_values\": 2427,\n        \"samples\": [\n          \"Find Resultant Array After Removing AnagramsArray,Hash Table,String,Sorting,0index string array word wordsi consist lowercas english letter oper select index wordslength wordsi wordsi anagram delet wordsi word keep perform oper long select index satisfi condit return word perform oper shown select indic oper arbitrari order lead result anagram word phrase form rearrang letter differ word phrase use origin letter exactli exampl dacb anagram abdc exampl input word abbabababbaacdcd output abbacd explan way obtain result array use follow oper sinc words2 bbaa words1 baba anagram choos index delet words2 word abbababacdcd sinc words1 baba words0 abba anagram choos index delet words1 word abbacdcd sinc words2 cd words1 cd anagram choos index delet words2 word abbacd longer perform oper abbacd final answer exampl input word abcd output abcd explan adjac string word anagram oper perform constraint wordslength wordsilength wordsi consist lowercas english letter A66200S112900EasyU687C22\",\n          \"Count Vowel Substrings of a StringHash Table,String,substr contigu nonempti sequenc charact within string vowel substr substr consist vowel e u vowel present string word return number vowel substr word exampl input word aeiouu output explan vowel substr word follow underlin aeiouu aeiouu exampl input word unicornarihan output explan vowel present vowel substr exampl input word cuaieuouac output explan vowel substr word follow underlin cuaieuouac cuaieuouac cuaieuouac cuaieuouac cuaieuouac cuaieuouac cuaieuouac constraint wordlength word consist lowercas english letter A45000S65600EasyU959C21\",\n          \"Find the Array Concatenation ValueArray,Two Pointers,Simulation,0index integ array num concaten number number form concaten numer exampl concaten concaten valu num initi equal perform oper num becom empti exist number num pick first element last element num respect add valu concaten concaten valu num delet first last element num element exist add valu concaten valu num delet return concaten valu num exampl input num output explan perform oper num concaten valu first oper pick first element last element concaten add concaten valu becom equal delet num num becom equal second oper pick first element last element concaten add concaten valu becom equal delet num num becom empti sinc concaten valu answer exampl input num output explan perform oper num concaten valu first oper pick first element last element concaten add concaten valu becom equal delet num num becom equal second oper pick first element last element concaten add concaten valu becom equal delet num num becom equal third oper num element pick add concaten valu becom equal delet num num becom empti sinc concaten valu answer constraint numslength numsi A52300S74300EasyU356C16\"\n        ],\n        \"semantic_type\": \"\",\n        \"description\": \"\"\n      }\n    }\n  ]\n}"
            }
          },
          "metadata": {},
          "execution_count": 49
        }
      ],
      "source": [
        "new = train_sample.drop(columns=['text','topics','accecpted','submission','upvotes','difficulty','comments'])\n",
        "new.head()"
      ]
    },
    {
      "cell_type": "code",
      "execution_count": null,
      "metadata": {
        "execution": {
          "iopub.execute_input": "2021-06-21T12:38:00.131473Z",
          "iopub.status.busy": "2021-06-21T12:38:00.130879Z",
          "iopub.status.idle": "2021-06-21T12:38:00.160438Z",
          "shell.execute_reply": "2021-06-21T12:38:00.159476Z",
          "shell.execute_reply.started": "2021-06-21T12:38:00.131439Z"
        },
        "trusted": true,
        "id": "3sD3QZSGQ4RO"
      },
      "outputs": [],
      "source": [
        "# new['tags'] = new['tags'].apply(lambda x: \" \".join(x))\n",
        "# new.head()"
      ]
    },
    {
      "cell_type": "code",
      "execution_count": null,
      "metadata": {
        "execution": {
          "iopub.execute_input": "2021-06-21T12:38:06.545110Z",
          "iopub.status.busy": "2021-06-21T12:38:06.544599Z",
          "iopub.status.idle": "2021-06-21T12:38:07.488307Z",
          "shell.execute_reply": "2021-06-21T12:38:07.487238Z",
          "shell.execute_reply.started": "2021-06-21T12:38:06.545079Z"
        },
        "trusted": true,
        "id": "8e6d4zsxQ4RO"
      },
      "outputs": [],
      "source": [
        "from sklearn.feature_extraction.text import CountVectorizer\n",
        "cv = CountVectorizer(max_features=5000,stop_words='english')"
      ]
    },
    {
      "cell_type": "code",
      "execution_count": null,
      "metadata": {
        "execution": {
          "iopub.execute_input": "2021-06-21T12:38:10.164314Z",
          "iopub.status.busy": "2021-06-21T12:38:10.163889Z",
          "iopub.status.idle": "2021-06-21T12:38:10.821200Z",
          "shell.execute_reply": "2021-06-21T12:38:10.820175Z",
          "shell.execute_reply.started": "2021-06-21T12:38:10.164279Z"
        },
        "trusted": true,
        "id": "l5_ZU7xLQ4RO"
      },
      "outputs": [],
      "source": [
        "vector = cv.fit_transform(new['tags']).toarray()"
      ]
    },
    {
      "cell_type": "code",
      "execution_count": null,
      "metadata": {
        "execution": {
          "iopub.execute_input": "2021-06-19T14:00:41.894747Z",
          "iopub.status.busy": "2021-06-19T14:00:41.894223Z",
          "iopub.status.idle": "2021-06-19T14:00:41.900786Z",
          "shell.execute_reply": "2021-06-19T14:00:41.899989Z",
          "shell.execute_reply.started": "2021-06-19T14:00:41.894699Z"
        },
        "trusted": true,
        "colab": {
          "base_uri": "https://localhost:8080/"
        },
        "id": "wE9KjQpgQ4RO",
        "outputId": "44173269-b633-496a-876c-d39a5930769a"
      },
      "outputs": [
        {
          "output_type": "execute_result",
          "data": {
            "text/plain": [
              "(2427, 5000)"
            ]
          },
          "metadata": {},
          "execution_count": 53
        }
      ],
      "source": [
        "vector.shape"
      ]
    },
    {
      "cell_type": "code",
      "execution_count": null,
      "metadata": {
        "execution": {
          "iopub.execute_input": "2021-06-21T12:38:13.339451Z",
          "iopub.status.busy": "2021-06-21T12:38:13.339041Z",
          "iopub.status.idle": "2021-06-21T12:38:13.390575Z",
          "shell.execute_reply": "2021-06-21T12:38:13.389373Z",
          "shell.execute_reply.started": "2021-06-21T12:38:13.339412Z"
        },
        "trusted": true,
        "id": "0yg-_31uQ4RP"
      },
      "outputs": [],
      "source": [
        "from sklearn.metrics.pairwise import cosine_similarity"
      ]
    },
    {
      "cell_type": "code",
      "execution_count": null,
      "metadata": {
        "execution": {
          "iopub.execute_input": "2021-06-21T12:38:15.770001Z",
          "iopub.status.busy": "2021-06-21T12:38:15.769495Z",
          "iopub.status.idle": "2021-06-21T12:38:18.170463Z",
          "shell.execute_reply": "2021-06-21T12:38:18.169319Z",
          "shell.execute_reply.started": "2021-06-21T12:38:15.769960Z"
        },
        "trusted": true,
        "id": "dd856yH5Q4RP"
      },
      "outputs": [],
      "source": [
        "similarity = cosine_similarity(vector)"
      ]
    },
    {
      "cell_type": "code",
      "execution_count": null,
      "metadata": {
        "execution": {
          "iopub.execute_input": "2021-06-19T14:06:45.473087Z",
          "iopub.status.busy": "2021-06-19T14:06:45.472777Z",
          "iopub.status.idle": "2021-06-19T14:06:45.479647Z",
          "shell.execute_reply": "2021-06-19T14:06:45.478831Z",
          "shell.execute_reply.started": "2021-06-19T14:06:45.473061Z"
        },
        "trusted": true,
        "colab": {
          "base_uri": "https://localhost:8080/"
        },
        "id": "bG_ZxSKTQ4RP",
        "outputId": "6f1853aa-f057-462e-c3bb-8b9edd194301"
      },
      "outputs": [
        {
          "output_type": "execute_result",
          "data": {
            "text/plain": [
              "array([[1.        , 0.14781319, 0.11802059, ..., 0.10007946, 0.09377748,\n",
              "        0.16418684],\n",
              "       [0.14781319, 1.        , 0.33389486, ..., 0.18055125, 0.24108431,\n",
              "        0.19129972],\n",
              "       [0.11802059, 0.33389486, 1.        , ..., 0.14603231, 0.09578568,\n",
              "        0.1979825 ],\n",
              "       ...,\n",
              "       [0.10007946, 0.18055125, 0.14603231, ..., 1.        , 0.19854911,\n",
              "        0.10345904],\n",
              "       [0.09377748, 0.24108431, 0.09578568, ..., 0.19854911, 1.        ,\n",
              "        0.07464707],\n",
              "       [0.16418684, 0.19129972, 0.1979825 , ..., 0.10345904, 0.07464707,\n",
              "        1.        ]])"
            ]
          },
          "metadata": {},
          "execution_count": 56
        }
      ],
      "source": [
        "similarity"
      ]
    },
    {
      "cell_type": "code",
      "execution_count": null,
      "metadata": {
        "execution": {
          "iopub.execute_input": "2021-06-19T14:08:46.716222Z",
          "iopub.status.busy": "2021-06-19T14:08:46.7159Z",
          "iopub.status.idle": "2021-06-19T14:08:46.7239Z",
          "shell.execute_reply": "2021-06-19T14:08:46.722946Z",
          "shell.execute_reply.started": "2021-06-19T14:08:46.716196Z"
        },
        "trusted": true,
        "colab": {
          "base_uri": "https://localhost:8080/"
        },
        "id": "k45Y282-Q4RQ",
        "outputId": "7060688f-d4c1-448f-a3f7-dc2430874450"
      },
      "outputs": [
        {
          "output_type": "execute_result",
          "data": {
            "text/plain": [
              "1"
            ]
          },
          "metadata": {},
          "execution_count": 57
        }
      ],
      "source": [
        "new[new['name'] == 'Two Sum'].index[0]"
      ]
    },
    {
      "cell_type": "code",
      "execution_count": null,
      "metadata": {
        "execution": {
          "iopub.execute_input": "2021-06-21T12:38:22.542900Z",
          "iopub.status.busy": "2021-06-21T12:38:22.542487Z",
          "iopub.status.idle": "2021-06-21T12:38:22.549786Z",
          "shell.execute_reply": "2021-06-21T12:38:22.548271Z",
          "shell.execute_reply.started": "2021-06-21T12:38:22.542867Z"
        },
        "trusted": true,
        "id": "4mXZa54nQ4RQ"
      },
      "outputs": [],
      "source": [
        "def recommend(que):\n",
        "    index = new[new['name'] == que].index[0]\n",
        "    distances = sorted(list(enumerate(similarity[index])),reverse=True,key = lambda x: x[1])\n",
        "    for i in distances[1:6]:\n",
        "        print(new.iloc[i[0]]['name'])\n",
        "\n"
      ]
    },
    {
      "cell_type": "code",
      "execution_count": null,
      "metadata": {
        "execution": {
          "iopub.execute_input": "2021-06-21T12:38:24.914650Z",
          "iopub.status.busy": "2021-06-21T12:38:24.914258Z",
          "iopub.status.idle": "2021-06-21T12:38:24.930018Z",
          "shell.execute_reply": "2021-06-21T12:38:24.928876Z",
          "shell.execute_reply.started": "2021-06-21T12:38:24.914616Z"
        },
        "trusted": true,
        "colab": {
          "base_uri": "https://localhost:8080/"
        },
        "id": "abWA1D_JQ4RQ",
        "outputId": "59a22973-1ce8-4f9b-a927-67179a71f521"
      },
      "outputs": [
        {
          "output_type": "stream",
          "name": "stdout",
          "text": [
            "Find First and Last Position of Element in Sorted Array\n",
            "Search Insert Position\n",
            "3Sum Closest\n",
            "Binary Search\n",
            "Find Target Indices After Sorting Array\n"
          ]
        }
      ],
      "source": [
        "recommend('Two Sum')"
      ]
    },
    {
      "cell_type": "code",
      "execution_count": null,
      "metadata": {
        "execution": {
          "iopub.execute_input": "2021-06-21T12:39:59.606924Z",
          "iopub.status.busy": "2021-06-21T12:39:59.606475Z",
          "iopub.status.idle": "2021-06-21T12:39:59.612177Z",
          "shell.execute_reply": "2021-06-21T12:39:59.610858Z",
          "shell.execute_reply.started": "2021-06-21T12:39:59.606890Z"
        },
        "trusted": true,
        "id": "UMeJoRQ2Q4RR"
      },
      "outputs": [],
      "source": [
        "import pickle"
      ]
    },
    {
      "cell_type": "code",
      "execution_count": null,
      "metadata": {
        "execution": {
          "iopub.execute_input": "2021-06-21T12:40:53.373581Z",
          "iopub.status.busy": "2021-06-21T12:40:53.373186Z",
          "iopub.status.idle": "2021-06-21T12:40:53.784869Z",
          "shell.execute_reply": "2021-06-21T12:40:53.783635Z",
          "shell.execute_reply.started": "2021-06-21T12:40:53.373547Z"
        },
        "trusted": true,
        "id": "W7XzL4aGQ4RR"
      },
      "outputs": [],
      "source": [
        "pickle.dump(new,open('ques_list.pkl','wb'))\n",
        "pickle.dump(similarity,open('similarity.pkl','wb'))"
      ]
    }
  ]
}