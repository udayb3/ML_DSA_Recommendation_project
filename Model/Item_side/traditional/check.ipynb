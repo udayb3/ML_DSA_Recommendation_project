{
 "cells": [
  {
   "cell_type": "code",
   "execution_count": 4,
   "metadata": {},
   "outputs": [
    {
     "data": {
      "text/plain": [
       "str"
      ]
     },
     "execution_count": 4,
     "metadata": {},
     "output_type": "execute_result"
    }
   ],
   "source": [
    "import types\n",
    "import marshal, pickle\n",
    "\n",
    "tr_recommend_code= marshal.load(open('traditional_usage_method.mar', 'rb'))\n",
    "new_sim= pickle.load(open('traditional_similarity.pkl','rb'))\n",
    "new_data= pickle.load(open('traditional_ques_list.pkl','rb'))\n",
    "\n",
    "traditional_recommend = types.FunctionType(tr_recommend_code, globals(), \"some_func_name\")\n",
    "type('dsf)')"
   ]
  },
  {
   "cell_type": "code",
   "execution_count": 2,
   "metadata": {},
   "outputs": [],
   "source": [
    "val= traditional_recommend(\"Two Sum\", new_sim, new_data)"
   ]
  },
  {
   "cell_type": "code",
   "execution_count": 3,
   "metadata": {},
   "outputs": [
    {
     "data": {
      "text/plain": [
       "['Find First and Last Position of Element in Sorted Array',\n",
       " 'Search Insert Position',\n",
       " '3Sum Closest',\n",
       " 'Binary Search',\n",
       " 'Find Target Indices After Sorting Array']"
      ]
     },
     "execution_count": 3,
     "metadata": {},
     "output_type": "execute_result"
    }
   ],
   "source": [
    "val"
   ]
  }
 ],
 "metadata": {
  "kernelspec": {
   "display_name": "Python 3",
   "language": "python",
   "name": "python3"
  },
  "language_info": {
   "codemirror_mode": {
    "name": "ipython",
    "version": 3
   },
   "file_extension": ".py",
   "mimetype": "text/x-python",
   "name": "python",
   "nbconvert_exporter": "python",
   "pygments_lexer": "ipython3",
   "version": "3.12.3"
  }
 },
 "nbformat": 4,
 "nbformat_minor": 2
}
